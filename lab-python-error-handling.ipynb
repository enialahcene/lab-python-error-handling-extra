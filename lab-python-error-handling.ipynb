{
 "cells": [
  {
   "cell_type": "markdown",
   "id": "25d7736c-ba17-4aff-b6bb-66eba20fbf4e",
   "metadata": {},
   "source": [
    "# Lab | Error Handling"
   ]
  },
  {
   "cell_type": "markdown",
   "id": "6f8e446f-16b4-4e21-92e7-9d3d1eb551b6",
   "metadata": {},
   "source": [
    "Objective: Practice how to identify, handle and recover from potential errors in Python code using try-except blocks."
   ]
  },
  {
   "cell_type": "markdown",
   "id": "e253e768-aed8-4791-a800-87add1204afa",
   "metadata": {},
   "source": [
    "## Challenge \n",
    "\n",
    "Paste here your lab *functions* solutions. Apply error handling techniques to each function using try-except blocks. "
   ]
  },
  {
   "cell_type": "markdown",
   "id": "9180ff86-c3fe-4152-a609-081a287fa1af",
   "metadata": {},
   "source": [
    "The try-except block in Python is designed to handle exceptions and provide a fallback mechanism when code encounters errors. By enclosing the code that could potentially throw errors in a try block, followed by specific or general exception handling in the except block, we can gracefully recover from errors and continue program execution.\n",
    "\n",
    "However, there may be cases where an input may not produce an immediate error, but still needs to be addressed. In such situations, it can be useful to explicitly raise an error using the \"raise\" keyword, either to draw attention to the issue or handle it elsewhere in the program.\n",
    "\n",
    "Modify the code to handle possible errors in Python, it is recommended to use `try-except-else-finally` blocks, incorporate the `raise` keyword where necessary, and print meaningful error messages to alert users of any issues that may occur during program execution.\n",
    "\n"
   ]
  },
  {
   "cell_type": "code",
   "execution_count": 1,
   "id": "cc2c441d-9dcf-4817-b097-cf6cbe440846",
   "metadata": {},
   "outputs": [
    {
     "name": "stdout",
     "output_type": "stream",
     "text": [
      "Inventory initialized successfully.\n",
      "Inventory initialization process completed.\n",
      "The product 'book' is out of stock.\n",
      "The product 'book' is out of stock.\n",
      "Customer orders received successfully.\n",
      "Customer order process completed.\n",
      "The total price for your orders is: 9.0€\n",
      "Price entry process completed.\n"
     ]
    }
   ],
   "source": [
    "# your code goes here\n",
    "\n",
    "products = [\"t-shirt\", \"mug\", \"hat\", \"book\", \"keychain\"]\n",
    "\n",
    "def initialize_inventory(products):\n",
    "    inventory = {}\n",
    "    for product in products:\n",
    "        valid_input = False\n",
    "        while not valid_input:\n",
    "            try:\n",
    "                quantity = int(input(f\"Enter the quantity of {product}s available: \"))\n",
    "                if quantity < 0:\n",
    "                    raise ValueError(\"Quantity cannot be negative.\")\n",
    "                inventory[product] = quantity\n",
    "                valid_input = True\n",
    "            except ValueError as e:\n",
    "                print(f\"Invalid input: {e}. Please enter a valid quantity.\")\n",
    "    return inventory\n",
    "\n",
    "try:\n",
    "    inventory = initialize_inventory(products)\n",
    "except Exception as e:\n",
    "    print(f\"An error occurred while initializing inventory: {e}\")\n",
    "else:\n",
    "    print(\"Inventory initialized successfully.\")\n",
    "finally:\n",
    "    print(\"Inventory initialization process completed.\")\n",
    "\n",
    "\n",
    "def get_customer_orders(inventory, products):\n",
    "    customer_orders = set()\n",
    "    valid_input = False\n",
    "    while not valid_input:\n",
    "        try:\n",
    "            num_ord = int(input(\"Enter the number of products you want to order: \"))\n",
    "            if num_ord < 0:\n",
    "                raise ValueError(\"Quantity cannot be negative.\")\n",
    "            valid_input = True\n",
    "        except ValueError as e:\n",
    "            print(f\"Invalid input: {e}. Please enter a valid quantity.\")\n",
    "    \n",
    "    for i in range(num_ord):\n",
    "        valid_order = False\n",
    "        while not valid_order:\n",
    "            try:\n",
    "                order = input(f\"Enter the name of a product from the list: {products} \")\n",
    "                if order not in inventory:\n",
    "                    raise KeyError(f\"'{order}' is not a valid product.\")\n",
    "                if inventory[order] == 0:\n",
    "                    raise ValueError(f\"The product '{order}' is out of stock.\")\n",
    "                customer_orders.add(order)\n",
    "                valid_order = True\n",
    "            except KeyError as e:\n",
    "                print(e)\n",
    "            except ValueError as e:\n",
    "                print(e)\n",
    "    \n",
    "    return customer_orders\n",
    "\n",
    "try:\n",
    "    customer_orders = get_customer_orders(inventory, products)\n",
    "except Exception as e:\n",
    "    print(f\"An error occurred while getting customer orders: {e}\")\n",
    "else:\n",
    "    print(\"Customer orders received successfully.\")\n",
    "finally:\n",
    "    print(\"Customer order process completed.\")\n",
    "\n",
    "\n",
    "def enter_price(customer_orders):\n",
    "    total_price = 0\n",
    "    for product in customer_orders:\n",
    "        while True:\n",
    "            try:\n",
    "                price = float(input(f\"Enter the price of the {product}: \"))\n",
    "                if price < 0:\n",
    "                    raise ValueError(\"Price cannot be negative.\")\n",
    "                total_price += price\n",
    "                break\n",
    "            except ValueError as e:\n",
    "                print(f\"Invalid input: {e}. Please enter a valid price.\")\n",
    "    \n",
    "    return f\"{total_price}€\"\n",
    "\n",
    "try:\n",
    "    total_prices = enter_price(customer_orders)\n",
    "except Exception as e:\n",
    "    print(f\"An error occurred while entering the prices: {e}\")\n",
    "else:\n",
    "    print(f\"The total price for your orders is: {total_prices}\")\n",
    "finally:\n",
    "    print(\"Price entry process completed.\")\n"
   ]
  }
 ],
 "metadata": {
  "kernelspec": {
   "display_name": "Python 3 (ipykernel)",
   "language": "python",
   "name": "python3"
  },
  "language_info": {
   "codemirror_mode": {
    "name": "ipython",
    "version": 3
   },
   "file_extension": ".py",
   "mimetype": "text/x-python",
   "name": "python",
   "nbconvert_exporter": "python",
   "pygments_lexer": "ipython3",
   "version": "3.10.0"
  }
 },
 "nbformat": 4,
 "nbformat_minor": 5
}
